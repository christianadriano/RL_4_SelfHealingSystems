{
 "cells": [
  {
   "cell_type": "code",
   "execution_count": 1,
   "metadata": {},
   "outputs": [],
   "source": [
    "import numpy as np\n",
    "import gym\n",
    "import random\n",
    "import time\n",
    "from IPython.display import clear_output"
   ]
  },
  {
   "cell_type": "code",
   "execution_count": 17,
   "metadata": {},
   "outputs": [
    {
     "name": "stdout",
     "output_type": "stream",
     "text": [
      "[[0. 0. 0. 0.]\n",
      " [0. 0. 0. 0.]\n",
      " [0. 0. 0. 0.]\n",
      " [0. 0. 0. 0.]\n",
      " [0. 0. 0. 0.]\n",
      " [0. 0. 0. 0.]\n",
      " [0. 0. 0. 0.]\n",
      " [0. 0. 0. 0.]\n",
      " [0. 0. 0. 0.]\n",
      " [0. 0. 0. 0.]\n",
      " [0. 0. 0. 0.]\n",
      " [0. 0. 0. 0.]\n",
      " [0. 0. 0. 0.]\n",
      " [0. 0. 0. 0.]\n",
      " [0. 0. 0. 0.]\n",
      " [0. 0. 0. 0.]]\n"
     ]
    }
   ],
   "source": [
    "env = gym.make(\"FrozenLake-v0\")\n",
    "action_space_size = env.action_space.n\n",
    "state_space_size = env.observation_space.n \n",
    "q_table = np.zeros((state_space_size,action_space_size))\n",
    "print(q_table)"
   ]
  },
  {
   "cell_type": "code",
   "execution_count": 22,
   "metadata": {},
   "outputs": [
    {
     "name": "stdout",
     "output_type": "stream",
     "text": [
      "1000 : 0.060000000000000046\n",
      "2000 : 0.19500000000000015\n",
      "3000 : 0.4110000000000003\n",
      "4000 : 0.5680000000000004\n",
      "5000 : 0.6350000000000005\n",
      "6000 : 0.6400000000000005\n",
      "7000 : 0.6950000000000005\n",
      "8000 : 0.7120000000000005\n",
      "9000 : 0.6540000000000005\n",
      "10000 : 0.6800000000000005\n",
      "\n",
      "\n",
      "***************** Q-Table *****************\n",
      "\n",
      "[[0.60791542 0.53221386 0.52911832 0.53087979]\n",
      " [0.27386898 0.30996834 0.28791727 0.54559407]\n",
      " [0.4073099  0.40439816 0.39898589 0.48876368]\n",
      " [0.29892672 0.26289927 0.33905843 0.47215906]\n",
      " [0.63012613 0.31324247 0.42037965 0.33666842]\n",
      " [0.         0.         0.         0.        ]\n",
      " [0.37720852 0.16089761 0.15346304 0.06619253]\n",
      " [0.         0.         0.         0.        ]\n",
      " [0.3676519  0.33319297 0.43126597 0.64827331]\n",
      " [0.45608364 0.69029939 0.40719403 0.31321277]\n",
      " [0.7204605  0.37068191 0.22236584 0.22824781]\n",
      " [0.         0.         0.         0.        ]\n",
      " [0.         0.         0.         0.        ]\n",
      " [0.40505244 0.43473793 0.81489135 0.53721193]\n",
      " [0.72997927 0.88398265 0.75097226 0.76641701]\n",
      " [0.         0.         0.         0.        ]]\n"
     ]
    }
   ],
   "source": [
    "num_episodes = 10000\n",
    "max_steps_per_episode=100\n",
    "\n",
    "learning_rate = 0.1\n",
    "discount_rate = 0.99\n",
    "\n",
    "exploration_rate = 1\n",
    "max_exploration_rate = 1 \n",
    "min_exploration_rate = 0.01\n",
    "exploration_rate_decay = 0.001\n",
    "\n",
    "rewards_all_episodes = []\n",
    "\n",
    "#q-learning algorithm\n",
    "for episodes in range(num_episodes):\n",
    "    state = env.reset()\n",
    "    \n",
    "    done=False\n",
    "    rewards_current_episode = 0\n",
    "    for step in range(max_steps_per_episode):\n",
    "        \n",
    "        #Exploration-Exploitation trade-off\n",
    "        exploration_rate_threshold = random.uniform(0,1)\n",
    "        if exploration_rate_threshold > exploration_rate:\n",
    "            action = np.argmax(q_table[state,:])\n",
    "        else:\n",
    "            action = env.action_space.sample()\n",
    "            \n",
    "        new_state, reward, done, info = env.step(action)\n",
    "        \n",
    "        #Update Q-Table for Q(s,a)\n",
    "       # print(\"new_state: \",new_state, \", action:\",action)\n",
    "       # print(\"q_table[new_state,:]\",q_table[new_state,:])\n",
    "        q_table[state, action] = q_table[state,action] * (1-learning_rate) +\\\n",
    "            learning_rate*(reward+discount_rate*np.max(q_table[new_state,:]))\n",
    "        \n",
    "        state = new_state\n",
    "        rewards_current_episode += reward\n",
    "        \n",
    "        if done == True:\n",
    "            break\n",
    "\n",
    "    #Exploration rate decay\n",
    "    exploration_rate = min_exploration_rate +\\\n",
    "            (max_exploration_rate - min_exploration_rate) * np.exp(-exploration_rate_decay*episodes)\n",
    "    \n",
    "    rewards_all_episodes.append(rewards_current_episode)\n",
    "    \n",
    "#Calculate and Print the Average Reward per Thousand Episodes\n",
    "rewards_per_thousand_episodes = np.split(np.array(rewards_all_episodes),num_episodes/1000)\n",
    "count = 1000\n",
    "for r in rewards_per_thousand_episodes:\n",
    "    print(count,\":\",str(sum(r/1000)))\n",
    "    count += 1000\n",
    "    \n",
    "#Print update Q-Table\n",
    "print(\"\\n\\n***************** Q-Table *****************\\n\")\n",
    "print(q_table)\n"
   ]
  },
  {
   "cell_type": "code",
   "execution_count": null,
   "metadata": {},
   "outputs": [],
   "source": []
  }
 ],
 "metadata": {
  "kernelspec": {
   "display_name": "Python 3",
   "language": "python",
   "name": "python3"
  },
  "language_info": {
   "codemirror_mode": {
    "name": "ipython",
    "version": 3
   },
   "file_extension": ".py",
   "mimetype": "text/x-python",
   "name": "python",
   "nbconvert_exporter": "python",
   "pygments_lexer": "ipython3",
   "version": "3.7.1"
  }
 },
 "nbformat": 4,
 "nbformat_minor": 2
}
