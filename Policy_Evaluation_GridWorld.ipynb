{
  "nbformat": 4,
  "nbformat_minor": 0,
  "metadata": {
    "colab": {
      "name": "Policy_Evaluation_GridWorld.ipynb",
      "provenance": [],
      "collapsed_sections": [],
      "authorship_tag": "ABX9TyMceWN5BbkKDB8UoeTDdNE4",
      "include_colab_link": true
    },
    "kernelspec": {
      "name": "python3",
      "display_name": "Python 3"
    }
  },
  "cells": [
    {
      "cell_type": "markdown",
      "metadata": {
        "id": "view-in-github",
        "colab_type": "text"
      },
      "source": [
        "<a href=\"https://colab.research.google.com/github/christianadriano/RL_4_SelfHealingSystems/blob/master/Policy_Evaluation_GridWorld.ipynb\" target=\"_parent\"><img src=\"https://colab.research.google.com/assets/colab-badge.svg\" alt=\"Open In Colab\"/></a>"
      ]
    },
    {
      "cell_type": "code",
      "metadata": {
        "id": "kjUTCzTfdQOY",
        "colab_type": "code",
        "colab": {}
      },
      "source": [
        "from IPython.core.debugger import set_trace\n",
        "import numpy as np\n",
        "import pprint\n",
        "import sys\n",
        "if \"../\" not in sys.path:\n",
        "  sys.path.append(\"../\") \n",
        "from lib.envs.gridworld import GridworldEnv\n",
        "\n",
        "import Failure_Monitor_Environment as env #for future use\n",
        "env = gym.make('env-v0')\n",
        "\n",
        "pp = pprint.PrettyPrinter(indent=2)\n",
        "env = GridworldEnv() #initilize environment (gridworld)\n",
        "\n",
        "def policy_evaluation(policy, env, discount_factor=1.0, theta=0.00001):\n",
        "    \"\"\"\n",
        "    Evaluate a policy for a given an environment considering a dicount_factor\n",
        "    and a stopping factor. Assumes that the environment has a complete\n",
        "    specification of its dynamics (transition matrix and reward table)\n",
        "    \n",
        "    Arguments (inputs):\n",
        "        policy: [S, A] shaped matrix representing the policy.\n",
        " \n",
        "        env: OpenAI env. env.P represents the transition probabilities of the environment.\n",
        "            env.P[s][a] is a list of transition tuples (prob, next_state, reward, done).\n",
        "            env.nS is a number of states in the environment. \n",
        "            env.nA is a number of actions in the environment.\n",
        " \n",
        "        theta: Determines when to stop evaluation once the change in the value \n",
        "               function change is less than theta for all states.\n",
        " \n",
        "        discount_factor: Gamma discount factor.\n",
        "    \n",
        "    Returns (outputs):\n",
        "        Vector of length env.nS representing the value function.\n",
        "    \"\"\"\n",
        "\n"
      ],
      "execution_count": 0,
      "outputs": []
    }
  ]
}